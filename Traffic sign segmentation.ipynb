{
 "cells": [
  {
   "cell_type": "code",
   "execution_count": 5,
   "id": "8a788c01",
   "metadata": {},
   "outputs": [],
   "source": [
    "import numpy as np\n",
    "import cv2 as cv\n",
    "import matplotlib.pyplot as plt"
   ]
  },
  {
   "cell_type": "code",
   "execution_count": 10,
   "id": "26e827fa",
   "metadata": {},
   "outputs": [],
   "source": [
    "def draw_bounding_box(click, x, y, flag_param, parameters):\n",
    "    global x_pt, y_pt, drawing, top_left_point, bottom_right_point, original_image  \n",
    "    \n",
    "    if click == cv.EVENT_LBUTTONDOWN:\n",
    "        drawing = True\n",
    "        x_pt, y_pt = x, y   \n",
    "\n",
    "    elif click == cv.EVENT_MOUSEMOVE:\n",
    "        if drawing:\n",
    "            top_left_point, bottom_right_point = (x_pt,y_pt), (x,y)\n",
    "            image[y_pt:y, x_pt:x] = 255 - original_image[y_pt:y, x_pt:x]\n",
    "            cv.rectangle(image, top_left_point, bottom_right_point, (0,255,0), 2)\n",
    "    \n",
    "    elif click == cv.EVENT_LBUTTONUP:\n",
    "        drawing = False\n",
    "        top_left_point, bottom_right_point = (x_pt,y_pt), (x,y)\n",
    "        image[y_pt:y, x_pt:x] = 255 - image[y_pt:y, x_pt:x]\n",
    "        cv.rectangle(image, top_left_point, bottom_right_point, (0,255,0), 2)\n",
    "        bounding_box = (x_pt, y_pt, x-x_pt, y-y_pt)\n",
    "        \n",
    "        grabcut_algorithm(original_image, bounding_box)\n",
    "\n",
    "def grabcut_algorithm(original_image, bounding_box):\n",
    "    \n",
    "    segment = np.zeros(original_image.shape[:2],np.uint8)\n",
    "    \n",
    "    x,y,width,height = bounding_box\n",
    "    segment[y:y+height, x:x+width] = 1\n",
    "\n",
    "    background_mdl = np.zeros((1,65), np.float64)\n",
    "    foreground_mdl = np.zeros((1,65), np.float64)\n",
    "    \n",
    "    cv.grabCut(original_image, segment, bounding_box, background_mdl, foreground_mdl, 5, cv.GC_INIT_WITH_RECT)\n",
    "\n",
    "    new_mask = np.where((segment==2)|(segment==0),0,1).astype('uint8')\n",
    "\n",
    "    original_image = original_image*new_mask[:,:,np.newaxis]\n",
    "\n",
    "    cv.imshow('Result', original_image)\n",
    "    \n",
    "if __name__=='__main__':\n",
    "    drawing = False\n",
    "    top_left_point, bottom_right_point = (-1,-1), (-1,-1)\n",
    "\n",
    "    original_image = cv.imread(\"000_1_0020.png\")\n",
    "    original_image = cv.resize(original_image, (150, 150))\n",
    "    image = original_image.copy()\n",
    "    cv.namedWindow('Frame')\n",
    "    cv.setMouseCallback('Frame', draw_bounding_box)\n",
    "\n",
    "    while True:\n",
    "        cv.imshow('Frame', image)\n",
    "        c = cv.waitKey(1)\n",
    "        if c == 27:\n",
    "            break\n",
    "         \n",
    "\n",
    "    cv.destroyAllWindows()"
   ]
  },
  {
   "cell_type": "code",
   "execution_count": null,
   "id": "e24013b5",
   "metadata": {},
   "outputs": [],
   "source": []
  }
 ],
 "metadata": {
  "kernelspec": {
   "display_name": "Python 3 (ipykernel)",
   "language": "python",
   "name": "python3"
  },
  "language_info": {
   "codemirror_mode": {
    "name": "ipython",
    "version": 3
   },
   "file_extension": ".py",
   "mimetype": "text/x-python",
   "name": "python",
   "nbconvert_exporter": "python",
   "pygments_lexer": "ipython3",
   "version": "3.9.12"
  }
 },
 "nbformat": 4,
 "nbformat_minor": 5
}
