{
 "cells": [
  {
   "cell_type": "code",
   "execution_count": null,
   "id": "3f49d22d",
   "metadata": {},
   "outputs": [],
   "source": [
    "import os"
   ]
  },
  {
   "cell_type": "code",
   "execution_count": null,
   "id": "fc7f0922",
   "metadata": {},
   "outputs": [],
   "source": [
    "import sys\n",
    "# Python 3.7 is required\n",
    "assert sys.version_info >= (3,7)\n",
    "\n",
    "import cv2 as cv\n",
    "import numpy as np\n",
    "\n",
    "# For reproducibility,\n",
    "np.random.seed(99)\n",
    "\n",
    "# Make sure that optimization is enabled\n",
    "if not cv.useOptimized():\n",
    "    cv.setUseOptimized(True)\n",
    "\n",
    "cv.useOptimized()"
   ]
  },
  {
   "cell_type": "code",
   "execution_count": null,
   "id": "2eab0490",
   "metadata": {},
   "outputs": [],
   "source": [
    "from IPython.core.interactiveshell import InteractiveShell\n",
    "InteractiveShell.ast_node_interactivity = \"all\""
   ]
  },
  {
   "cell_type": "markdown",
   "id": "be7cc07c",
   "metadata": {},
   "source": [
    "# Weekly Activity\n",
    "## 1)"
   ]
  },
  {
   "cell_type": "code",
   "execution_count": null,
   "id": "68c10c9f",
   "metadata": {},
   "outputs": [],
   "source": [
    "img1 = cv.imread('soccer.jpg')\n",
    "img2 = cv.imread('soccer.jpg', 0)  #0 = grayscale\n",
    "\n",
    "cv.imshow('Soccer', img1)\n",
    "cv.imshow('GrayScale', img2)\n",
    "cv.waitKey(0)\n",
    "cv.destroyAllWindow()"
   ]
  },
  {
   "cell_type": "code",
   "execution_count": null,
   "id": "2de127eb",
   "metadata": {},
   "outputs": [],
   "source": [
    "imgC = cv.imread('dog.jfif')\n",
    "\n",
    "imgG = cv.cvtColor(imgC, cv.COLOR_BGR2GRAY)\n",
    "imgG = cv.cvtColor(imgG, cv.COLOR_GRAY2BGR)\n",
    "img_Cmb = np.concatenate([imgC, imgG])\n",
    "\n",
    "cv.imshow('Dog', img_Cmb)\n",
    "\n",
    "cv.waitKey(0)\n",
    "cv.destroyAllWindows()"
   ]
  },
  {
   "cell_type": "markdown",
   "id": "330236fc",
   "metadata": {},
   "source": [
    "## 2)"
   ]
  },
  {
   "cell_type": "code",
   "execution_count": null,
   "id": "e4ccb321",
   "metadata": {},
   "outputs": [],
   "source": [
    "# Create a VideoCapture object\n",
    "cap = cv.VideoCapture('img_pexels.mp4')\n",
    "\n",
    "width = int(cap.get(3))\n",
    "height = int(cap.get(4))\n",
    "fourcc = cv.VideoWriter_fourcc('M','J','P','G')\n",
    "fps = 5\n",
    "out = cv.VideoWriter('smaller_img_pexels.mp4', fourcc, fps, (width, height))\n",
    "\n",
    "# Check if the object has been created successfully\n",
    "if not cap.isOpened():\n",
    "    print(\"Unable to create Video.\")\n",
    "\n",
    "# Read until the video is completed.\n",
    "while cap.isOpened():\n",
    "    ret, frame = cap.read()\n",
    "    \n",
    "    # if frame is read then ret is True\n",
    "    if not ret:\n",
    "        print(\"Can't Receive Frame.\")\n",
    "        break\n",
    "        \n",
    "    cv.namedWindow('frame', cv.WINDOW_NORMAL)\n",
    "    cv.imshow('frame', frame)\n",
    "    \n",
    "    # Press Esc key to exit (27 is ASCII code for Esc). cv.waitKey() returns 32 bit integer values. You can find the ASCII table\n",
    "    # on this URL: https://theasciicode.com.ar/    \n",
    "    if cv.waitKey(1) & 0xFF == 27:\n",
    "        break\n",
    "\n",
    "# destroy the constructor\n",
    "cap.release()\n",
    "out.release()\n",
    "cv.destroyAllWindows()"
   ]
  },
  {
   "cell_type": "markdown",
   "id": "b8ab7638",
   "metadata": {},
   "source": [
    "## 3"
   ]
  },
  {
   "cell_type": "code",
   "execution_count": null,
   "id": "adfda3db",
   "metadata": {},
   "outputs": [],
   "source": [
    "from skimage.util import random_noise\n",
    "\n",
    "imgG = cv.imread('dog.jfif', 0)\n",
    "\n",
    "noise_img = random_noise(imgG, mode='s&p', amount = 0.3)\n",
    "noise_img = np.array(255*noise_img, dtype = 'uint8')\n",
    "\n",
    "cv.imshow('noise', noise_img)\n",
    "cv.waitKey(0)\n",
    "cv.destroyAllWindows()"
   ]
  }
 ],
 "metadata": {
  "kernelspec": {
   "display_name": "Python 3 (ipykernel)",
   "language": "python",
   "name": "python3"
  },
  "language_info": {
   "codemirror_mode": {
    "name": "ipython",
    "version": 3
   },
   "file_extension": ".py",
   "mimetype": "text/x-python",
   "name": "python",
   "nbconvert_exporter": "python",
   "pygments_lexer": "ipython3",
   "version": "3.9.12"
  }
 },
 "nbformat": 4,
 "nbformat_minor": 5
}
