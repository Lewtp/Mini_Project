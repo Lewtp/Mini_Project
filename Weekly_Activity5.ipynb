{
 "cells": [
  {
   "cell_type": "code",
   "execution_count": 1,
   "id": "137dc108",
   "metadata": {},
   "outputs": [
    {
     "data": {
      "text/plain": [
       "True"
      ]
     },
     "execution_count": 1,
     "metadata": {},
     "output_type": "execute_result"
    }
   ],
   "source": [
    "import sys\n",
    "# Python 3.7 is required\n",
    "assert sys.version_info >= (3,7)\n",
    "\n",
    "import cv2 as cv\n",
    "import numpy as np\n",
    "# Make sure that optimization is enabled\n",
    "if not cv.useOptimized():\n",
    "    cv.setUseOptimized(True)\n",
    "\n",
    "cv.useOptimized()"
   ]
  },
  {
   "cell_type": "markdown",
   "id": "f206a7dc",
   "metadata": {},
   "source": [
    "### 1) "
   ]
  },
  {
   "cell_type": "code",
   "execution_count": 42,
   "id": "5c2d0bbc",
   "metadata": {},
   "outputs": [],
   "source": [
    "def crop_grid(img, num_horizontal_grid, num_verticle_grid, line_color):\n",
    "    \n",
    "    height, width = img.shape[:2]\n",
    "    num_horizontal_patches = 2\n",
    "    num_vertical_patches = 3\n",
    "\n",
    "    # M and N are basically number of pixels per patch\n",
    "    M, N = int(height/num_horizontal_patches), int(width/num_vertical_patches)\n",
    "\n",
    "    x1, y1 = 0, 0\n",
    "\n",
    "    for y in range(0, height, M):\n",
    "        for x in range(0, width, N):\n",
    "    #         if (height - y) < M or (width - x) < N:\n",
    "    #             break\n",
    "            \n",
    "            y1 = y + M    # lower right coordinate that will be used to construct rectangle\n",
    "            x1 = x + N\n",
    "        \n",
    "            # Check whether patch lower right coordinate exceeds image height and width\n",
    "            if x1 >= width and y1 >= height:\n",
    "                x1 = width - 1\n",
    "                y1 = height - 1\n",
    "                tile = img[y:height, x:width]\n",
    "                cv.rectangle(img_copy, (x, y), (x1, y1), (0, 255, 0), 1)\n",
    "                cv.imshow('tile', tile)\n",
    "            # When patch lower right y-coordinate exceeds patch height\n",
    "            elif y1 >= height:\n",
    "                y1 = height - 1\n",
    "                cv.rectangle(img_copy, (x, y), (x1, y1), (0, 255, 0), 1)\n",
    "            \n",
    "            # When patch lower right x-coordinate exceeds patch width\n",
    "            elif x1 >= width:\n",
    "                x1 = width - 1\n",
    "                cv.rectangle(img_copy, (x, y), (x1, y1), (0, 255, 0), 1)\n",
    "        \n",
    "            else:\n",
    "                cv.rectangle(img_copy, (x, y), (x1, y1), (0, 255, 0), 1)\n",
    "      \n",
    "    return img_copy          \n",
    "        \n",
    "img = cv.imread('dog.jfif')\n",
    "img_copy = img.copy()\n",
    "patched = crop_grid(img_copy, 2, 3, (0, 255, 0))\n",
    "\n",
    "cv.imshow('patched image', patched)\n",
    "cv.waitKey(0)\n",
    "cv.destroyAllWindows()"
   ]
  },
  {
   "cell_type": "markdown",
   "id": "a56f9593",
   "metadata": {},
   "source": [
    "### 2)"
   ]
  },
  {
   "cell_type": "code",
   "execution_count": null,
   "id": "21097493",
   "metadata": {},
   "outputs": [],
   "source": [
    "img1 = cv.imread('lena.jfif')\n",
    "img2 = cv.imread('coins.jfif')\n",
    "\n",
    "# Resize img2\n",
    "new_shape = img1.shape[:2]\n",
    "img2 = cv.resize(img2, new_shape)\n",
    "\n",
    "dst = cv.addWeighted(img1, 0.55, img2, 0.45, 0)\n",
    "\n",
    "cv.imshow('image1', img1)\n",
    "cv.imshow('reshape_image2', img2)\n",
    "cv.imshow('blend_image', dst)\n",
    "cv.waitKey(0)\n",
    "cv.destroyAllWindows()"
   ]
  },
  {
   "cell_type": "markdown",
   "id": "52910d8c",
   "metadata": {},
   "source": [
    "### 3)"
   ]
  },
  {
   "cell_type": "code",
   "execution_count": null,
   "id": "be4d2b08",
   "metadata": {},
   "outputs": [],
   "source": [
    "import imutils\n",
    "\n",
    "img = cv.imread('lena.jfif')\n",
    "rotate = imutils.rotate_bound(img, 45)\n",
    "\n",
    "cv.imshow('rotated_image', rotate)\n",
    "cv.waitKey(0)\n",
    "cv.destroyAllWindows()"
   ]
  },
  {
   "cell_type": "code",
   "execution_count": null,
   "id": "69c6ee02",
   "metadata": {},
   "outputs": [],
   "source": [
    "img = cv.imread('lena.jfif')\n",
    "\n",
    "Height, Width = img.shape[0], img.shape[1]\n",
    "image_center = Height/2, Width/2\n",
    "rotationMatrix = cv.getRotationMatrix2D((image_center), 45, 1.0)\n",
    "\n",
    "cosofRotationMatrix = np.abs(rotationMatrix[0][0])\n",
    "sinofRotationMatrix = np.abs(rotationMatrix[0][1])\n",
    "\n",
    "newImageHeight = int((Height * sinofRotationMatrix) + (Width * cosofRotationMatrix))\n",
    "newImageWidth = int((Height * cosofRotationMatrix) + (Width * sinofRotationMatrix))\n",
    "rotationMatrix[0][2] += (newImageWidth/2) - image_center[0]\n",
    "rotationMatrix[1][2] += (newImageHeight/2) - image_center[1]\n",
    "\n",
    "rotatingimage = cv.warpAffine(img, rotationMatrix, (newImageWidth, newImageHeight))\n",
    "\n",
    "cv.imshow('rotated_image', rotatingimage)\n",
    "cv.waitKey(0)\n",
    "cv.destroyAllWindows()"
   ]
  },
  {
   "cell_type": "markdown",
   "id": "41b88576",
   "metadata": {},
   "source": [
    "### 4)"
   ]
  },
  {
   "cell_type": "code",
   "execution_count": 31,
   "id": "dfb75cec",
   "metadata": {},
   "outputs": [],
   "source": [
    "img1 = cv.imread('flower.jfif')\n",
    "img2 = cv.imread('native-bee.png')\n",
    "\n",
    "\n",
    "rows,cols,channels = img1.shape\n",
    "roi = img2[0:rows, 0:cols ]\n",
    "\n",
    "img1gray = cv.cvtColor(img1,cv.COLOR_BGR2GRAY)\n",
    "ret, mask = cv.threshold(img1gray, 70, 255, cv.THRESH_BINARY)\n",
    "mask_inv = cv.bitwise_not(mask)\n",
    "\n",
    "img2_bg = cv.bitwise_and(roi,roi,mask = mask_inv)\n",
    "\n",
    "img1_fg = cv.bitwise_and(img1,img1,mask = mask)\n",
    "\n",
    "dst = cv.add(img2_bg,img1_fg)\n",
    "img2[0:rows, 0:cols] = dst\n",
    "cv.imshow('flower_bee', img2)\n",
    "cv.waitKey(0)\n",
    "cv.destroyAllWindows()"
   ]
  }
 ],
 "metadata": {
  "kernelspec": {
   "display_name": "Python 3 (ipykernel)",
   "language": "python",
   "name": "python3"
  },
  "language_info": {
   "codemirror_mode": {
    "name": "ipython",
    "version": 3
   },
   "file_extension": ".py",
   "mimetype": "text/x-python",
   "name": "python",
   "nbconvert_exporter": "python",
   "pygments_lexer": "ipython3",
   "version": "3.9.12"
  }
 },
 "nbformat": 4,
 "nbformat_minor": 5
}
